{
 "cells": [
  {
   "cell_type": "code",
   "execution_count": 8,
   "metadata": {},
   "outputs": [],
   "source": [
    "import pandas as pd"
   ]
  },
  {
   "cell_type": "code",
   "execution_count": 11,
   "metadata": {},
   "outputs": [
    {
     "name": "stdout",
     "output_type": "stream",
     "text": [
      "[(110918, 'N26.55886E74.79862', 0.011261608, 12.732643248, 'N26.55881E74.79854', 165462, 'B'),(110946, 'N26.55886E74.79862', 0.004899208, 12.732643247999999, 'N26.55881E74.79854', 165491,'B')]\n",
      "[(110918, 'N26.55886E74.79862', 0.011261608, 12.732643248, 'N26.55881E74.79854', 165462, 'B')]\n",
      "\n",
      "\n",
      "\n",
      "[(158502, 'N26.52588E74.7279', 0.015476262, 20.7657564959999, 'N26.52582E74.72759', 213251)]\n",
      "[(158502, 'N26.525423E74.725423', 0.015476262, 20.7657564959999, 'N26.52582E74.72759', 213251)]\n",
      "\n",
      "\n",
      "\n",
      "[]\n",
      "[(110946, 'N26.55886E74.79862', 0.004899208, 12.732643247999999, 'N26.55881E74.79854', 165491)]\n",
      "\n",
      "\n",
      "\n",
      "[(118581, 'N26.553E74.78627', 0.010866445, 14.13086751, 'N26.55295E74.78614', 173213)]\n",
      "[]\n",
      "\n",
      "\n",
      "\n",
      "[(118623, 'N26.55298E74.7862', 0.005104845, 14.135972355, 'N26.55292E74.78606', 173255)]\n",
      "[]\n",
      "\n",
      "\n",
      "\n",
      "[]\n",
      "[(118200, 'N26.55314E74.78657', 0.005209645, 14.09872303, 'N26.55307E74.78643', 172832)]\n",
      "\n",
      "\n",
      "\n",
      "[]\n",
      "[(118581, 'N26.55292E74.786060', 0.010866445, 14.13086751, 'N26.55295E74.78614', 173213)]\n",
      "\n",
      "\n",
      "\n"
     ]
    }
   ],
   "source": [
    "df=pd.read_csv('master_data_LHS.csv')\n",
    "df1=pd.read_csv('master_data_LHS1.csv')\n",
    "for i in filter(lambda ff:True if 'RIGH' in ff or 'LEFT' in ff else False,df.columns):           \n",
    "    for a,b in zip(df[i],df1[i]):\n",
    "        if eval(a)!=eval(b):\n",
    "            print(a)\n",
    "            print(b)\n",
    "            print(\"\\n\\n\")"
   ]
  },
  {
   "cell_type": "code",
   "execution_count": null,
   "metadata": {},
   "outputs": [],
   "source": []
  }
 ],
 "metadata": {
  "kernelspec": {
   "display_name": "dev_env",
   "language": "python",
   "name": "python3"
  },
  "language_info": {
   "codemirror_mode": {
    "name": "ipython",
    "version": 3
   },
   "file_extension": ".py",
   "mimetype": "text/x-python",
   "name": "python",
   "nbconvert_exporter": "python",
   "pygments_lexer": "ipython3",
   "version": "3.10.7"
  }
 },
 "nbformat": 4,
 "nbformat_minor": 2
}
